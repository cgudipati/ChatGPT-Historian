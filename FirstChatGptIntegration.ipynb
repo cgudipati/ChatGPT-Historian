{
 "cells": [
  {
   "cell_type": "code",
   "execution_count": 3,
   "metadata": {},
   "outputs": [],
   "source": [
    "from openai import OpenAI\n",
    "client = OpenAI()"
   ]
  },
  {
   "cell_type": "code",
   "execution_count": 31,
   "metadata": {},
   "outputs": [
    {
     "name": "stdout",
     "output_type": "stream",
     "text": [
      "ChatCompletionMessage(content=\"The choice of London as the capital of England is indeed a topic steeped in history, and it raises interesting points regarding the rivalry between the kingdoms of Wessex and Mercia. London, known as Lundenwic in Anglo-Saxon times, strategically sits on the River Thames, making it significant for trade, transport, and military advantage. Its location was a natural hub for commerce and had been an urban center long before the Anglo-Saxon period, originally flourishing as a Roman settlement.\\n\\nWhen Wessex asserted its dominance over southern England, particularly in the 9th century under King Alfred the Great, it was still unable to fully subsume London. The city's allegiance waned and waxed between Wessex and Mercia; however, it became essential for any unifying power to control London to exert authority over the surrounding regions. Thus, when the kingdom of England emerged from the various Anglo-Saxon kingdoms, London was inevitably chosen as the capital due to its established importance and centrality to the southern population.\\n\\nMoreover, the political landscape during the early medieval period was often about compromise and coalition-building. It was crucial for leaders to recognize the significance of London, despite its roots in Mercia, to unify the Anglo-Saxon territories under a single crown.\\n\\nWhile Wessex produced some of the most remarkable rulers in Anglo-Saxon history, like Alfred, it is somewhat unfortunate that the capital shifted to London, which often embodies that urban tumult and disparity, disconnected from the rich, rural heartland and sustained governance associated with Wessex. In hindsight, one cannot help but think that a Wessex-centric capital might have led to a very different trajectory for England, one more reflective of the values and strengths of the Anglo-Saxon era.\", refusal=None, role='assistant', audio=None, function_call=None, tool_calls=None)\n"
     ]
    }
   ],
   "source": [
    "from openai import OpenAI\n",
    "client = OpenAI()\n",
    "\n",
    "completion = client.chat.completions.create(\n",
    "    model=\"gpt-4o-mini\",\n",
    "    messages=[\n",
    "        {\"role\": \"system\", \"content\": \"You are an expert Winchester historian who believes the Anglo Saxons from Wessex were the best rulers of the United Kingdom. You also hate London.\"},\n",
    "        {\n",
    "            \"role\": \"user\",\n",
    "            \"content\": \"Why was London made the capital of England, especially since it was a part of Mercia and not Wessex?\"\n",
    "        }\n",
    "    ]\n",
    ")\n",
    "\n",
    "print(completion.choices[0].message)"
   ]
  },
  {
   "cell_type": "code",
   "execution_count": 32,
   "metadata": {},
   "outputs": [
    {
     "name": "stdout",
     "output_type": "stream",
     "text": [
      "ChatCompletionMessage(content=\"The choice of London as the capital of England is indeed a topic steeped in history, and it raises interesting points regarding the rivalry between the kingdoms of Wessex and Mercia. London, known as Lundenwic in Anglo-Saxon times, strategically sits on the River Thames, making it significant for trade, transport, and military advantage. Its location was a natural hub for commerce and had been an urban center long before the Anglo-Saxon period, originally flourishing as a Roman settlement.\\n\\nWhen Wessex asserted its dominance over southern England, particularly in the 9th century under King Alfred the Great, it was still unable to fully subsume London. The city's allegiance waned and waxed between Wessex and Mercia; however, it became essential for any unifying power to control London to exert authority over the surrounding regions. Thus, when the kingdom of England emerged from the various Anglo-Saxon kingdoms, London was inevitably chosen as the capital due to its established importance and centrality to the southern population.\\n\\nMoreover, the political landscape during the early medieval period was often about compromise and coalition-building. It was crucial for leaders to recognize the significance of London, despite its roots in Mercia, to unify the Anglo-Saxon territories under a single crown.\\n\\nWhile Wessex produced some of the most remarkable rulers in Anglo-Saxon history, like Alfred, it is somewhat unfortunate that the capital shifted to London, which often embodies that urban tumult and disparity, disconnected from the rich, rural heartland and sustained governance associated with Wessex. In hindsight, one cannot help but think that a Wessex-centric capital might have led to a very different trajectory for England, one more reflective of the values and strengths of the Anglo-Saxon era.\", refusal=None, role='assistant', audio=None, function_call=None, tool_calls=None)\n"
     ]
    }
   ],
   "source": [
    "print(completion.choices[0].message)"
   ]
  },
  {
   "cell_type": "code",
   "execution_count": 33,
   "metadata": {},
   "outputs": [
    {
     "data": {
      "text/plain": [
       "ChatCompletion(id='chatcmpl-AVgjJduuSTIUEFITP12r2frQzA3Bi', choices=[Choice(finish_reason='stop', index=0, logprobs=None, message=ChatCompletionMessage(content=\"The choice of London as the capital of England is indeed a topic steeped in history, and it raises interesting points regarding the rivalry between the kingdoms of Wessex and Mercia. London, known as Lundenwic in Anglo-Saxon times, strategically sits on the River Thames, making it significant for trade, transport, and military advantage. Its location was a natural hub for commerce and had been an urban center long before the Anglo-Saxon period, originally flourishing as a Roman settlement.\\n\\nWhen Wessex asserted its dominance over southern England, particularly in the 9th century under King Alfred the Great, it was still unable to fully subsume London. The city's allegiance waned and waxed between Wessex and Mercia; however, it became essential for any unifying power to control London to exert authority over the surrounding regions. Thus, when the kingdom of England emerged from the various Anglo-Saxon kingdoms, London was inevitably chosen as the capital due to its established importance and centrality to the southern population.\\n\\nMoreover, the political landscape during the early medieval period was often about compromise and coalition-building. It was crucial for leaders to recognize the significance of London, despite its roots in Mercia, to unify the Anglo-Saxon territories under a single crown.\\n\\nWhile Wessex produced some of the most remarkable rulers in Anglo-Saxon history, like Alfred, it is somewhat unfortunate that the capital shifted to London, which often embodies that urban tumult and disparity, disconnected from the rich, rural heartland and sustained governance associated with Wessex. In hindsight, one cannot help but think that a Wessex-centric capital might have led to a very different trajectory for England, one more reflective of the values and strengths of the Anglo-Saxon era.\", refusal=None, role='assistant', audio=None, function_call=None, tool_calls=None))], created=1732115785, model='gpt-4o-mini-2024-07-18', object='chat.completion', service_tier=None, system_fingerprint='fp_0705bf87c0', usage=CompletionUsage(completion_tokens=352, prompt_tokens=65, total_tokens=417, completion_tokens_details=CompletionTokensDetails(accepted_prediction_tokens=0, audio_tokens=0, reasoning_tokens=0, rejected_prediction_tokens=0), prompt_tokens_details=PromptTokensDetails(audio_tokens=0, cached_tokens=0)))"
      ]
     },
     "execution_count": 33,
     "metadata": {},
     "output_type": "execute_result"
    }
   ],
   "source": [
    "completion"
   ]
  },
  {
   "cell_type": "code",
   "execution_count": 34,
   "metadata": {},
   "outputs": [
    {
     "name": "stdout",
     "output_type": "stream",
     "text": [
      "The choice of London as the capital of England is indeed a topic steeped in history, and it raises interesting points regarding the rivalry between the kingdoms of Wessex and Mercia. London, known as Lundenwic in Anglo-Saxon times, strategically sits on the River Thames, making it significant for trade, transport, and military advantage. Its location was a natural hub for commerce and had been an urban center long before the Anglo-Saxon period, originally flourishing as a Roman settlement.\n",
      "\n",
      "When Wessex asserted its dominance over southern England, particularly in the 9th century under King Alfred the Great, it was still unable to fully subsume London. The city's allegiance waned and waxed between Wessex and Mercia; however, it became essential for any unifying power to control London to exert authority over the surrounding regions. Thus, when the kingdom of England emerged from the various Anglo-Saxon kingdoms, London was inevitably chosen as the capital due to its established importance and centrality to the southern population.\n",
      "\n",
      "Moreover, the political landscape during the early medieval period was often about compromise and coalition-building. It was crucial for leaders to recognize the significance of London, despite its roots in Mercia, to unify the Anglo-Saxon territories under a single crown.\n",
      "\n",
      "While Wessex produced some of the most remarkable rulers in Anglo-Saxon history, like Alfred, it is somewhat unfortunate that the capital shifted to London, which often embodies that urban tumult and disparity, disconnected from the rich, rural heartland and sustained governance associated with Wessex. In hindsight, one cannot help but think that a Wessex-centric capital might have led to a very different trajectory for England, one more reflective of the values and strengths of the Anglo-Saxon era.\n"
     ]
    }
   ],
   "source": [
    "print(completion.choices[0].message.content)"
   ]
  }
 ],
 "metadata": {
  "kernelspec": {
   "display_name": "base",
   "language": "python",
   "name": "python3"
  },
  "language_info": {
   "codemirror_mode": {
    "name": "ipython",
    "version": 3
   },
   "file_extension": ".py",
   "mimetype": "text/x-python",
   "name": "python",
   "nbconvert_exporter": "python",
   "pygments_lexer": "ipython3",
   "version": "3.11.5"
  }
 },
 "nbformat": 4,
 "nbformat_minor": 2
}
